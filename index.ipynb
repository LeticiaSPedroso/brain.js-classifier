{
 "cells": [
  {
   "cell_type": "markdown",
   "metadata": {},
   "source": [
    "# Classificador de frases com a biblioteca \"brain.js\"\n",
    "NLP Classify sentences - brain.js"
   ]
  },
  {
   "cell_type": "markdown",
   "metadata": {},
   "source": [
    "Documentation: https://github.com/NaturalNode/natural"
   ]
  },
  {
   "cell_type": "code",
   "execution_count": 1,
   "metadata": {},
   "outputs": [],
   "source": [
    "const brain = require('brain.js');\n",
    "var natural = require('natural');\n",
    "var wndb = require('wordnet-db');\n"
   ]
  },
  {
   "cell_type": "markdown",
   "metadata": {},
   "source": [
    "# Preprocessing - Tokenizer"
   ]
  },
  {
   "cell_type": "code",
   "execution_count": 2,
   "metadata": {},
   "outputs": [
    {
     "name": "stdout",
     "output_type": "stream",
     "text": [
      "[ 'estou', 'aprendendo', 'IA' ]\n"
     ]
    }
   ],
   "source": [
    "var tokenizer = new natural.WordTokenizer();\n",
    "\n",
    "console.log(tokenizer.tokenize(\"estou aprendendo IA\"));\n"
   ]
  },
  {
   "cell_type": "markdown",
   "metadata": {},
   "source": [
    "# Stemming"
   ]
  },
  {
   "cell_type": "code",
   "execution_count": 9,
   "metadata": {},
   "outputs": [
    {
     "name": "stdout",
     "output_type": "stream",
     "text": [
      "palavr\n",
      "[ 'eu', 'estou', 'estudando', 'programa' ]\n",
      "[ 'wake', 'sound', 'chainsaw' ]\n",
      "porta\n",
      "chainsaw\n"
     ]
    }
   ],
   "source": [
    "console.log(natural.PorterStemmerPt.stem(\"palavras\"));\n",
    "\n",
    "natural.PorterStemmer.attach();\n",
    "console.log(\"eu estou estudando programação\".tokenizeAndStem());//em português não funciona\n",
    "console.log(\"i am waking up to the sounds of chainsaws\".tokenizeAndStem());//em inglês funciona\n",
    "\n",
    "console.log(\"portas\".stem());\n",
    "console.log(\"chainsaws\".stem());\n",
    "\n"
   ]
  },
  {
   "cell_type": "markdown",
   "metadata": {},
   "source": [
    "Stopwords"
   ]
  },
  {
   "cell_type": "code",
   "execution_count": 1,
   "metadata": {},
   "outputs": [
    {
     "data": {
      "text/plain": [
       "[ 'a',\n",
       "  'à',\n",
       "  'adeus',\n",
       "  'agora',\n",
       "  'aí',\n",
       "  'ainda',\n",
       "  'além',\n",
       "  'algo',\n",
       "  'alguém',\n",
       "  'algum',\n",
       "  'alguma',\n",
       "  'algumas',\n",
       "  'alguns',\n",
       "  'ali',\n",
       "  'ampla',\n",
       "  'amplas',\n",
       "  'amplo',\n",
       "  'amplos',\n",
       "  'ano',\n",
       "  'anos',\n",
       "  'ante',\n",
       "  'antes',\n",
       "  'ao',\n",
       "  'aos',\n",
       "  'apenas',\n",
       "  'apoio',\n",
       "  'após',\n",
       "  'aquela',\n",
       "  'aquelas',\n",
       "  'aquele',\n",
       "  'aqueles',\n",
       "  'aqui',\n",
       "  'aquilo',\n",
       "  'área',\n",
       "  'as',\n",
       "  'às',\n",
       "  'assim',\n",
       "  'até',\n",
       "  'atrás',\n",
       "  'através',\n",
       "  'baixo',\n",
       "  'bastante',\n",
       "  'bem',\n",
       "  'boa',\n",
       "  'boas',\n",
       "  'bom',\n",
       "  'bons',\n",
       "  'breve',\n",
       "  'cá',\n",
       "  'cada',\n",
       "  'catorze',\n",
       "  'cedo',\n",
       "  'cento',\n",
       "  'certamente',\n",
       "  'certeza',\n",
       "  'cima',\n",
       "  'cinco',\n",
       "  'coisa',\n",
       "  'coisas',\n",
       "  'com',\n",
       "  'como',\n",
       "  'conselho',\n",
       "  'contra',\n",
       "  'contudo',\n",
       "  'custa',\n",
       "  'da',\n",
       "  'dá',\n",
       "  'dão',\n",
       "  'daquela',\n",
       "  'daquelas',\n",
       "  'daquele',\n",
       "  'daqueles',\n",
       "  'dar',\n",
       "  'das',\n",
       "  'de',\n",
       "  'debaixo',\n",
       "  'dela',\n",
       "  'delas',\n",
       "  'dele',\n",
       "  'deles',\n",
       "  'demais',\n",
       "  'dentro',\n",
       "  'depois',\n",
       "  'desde',\n",
       "  'dessa',\n",
       "  'dessas',\n",
       "  'desse',\n",
       "  'desses',\n",
       "  'desta',\n",
       "  'destas',\n",
       "  'deste',\n",
       "  'destes',\n",
       "  'deve',\n",
       "  'devem',\n",
       "  'devendo',\n",
       "  'dever',\n",
       "  'deverá',\n",
       "  'deverão',\n",
       "  'deveria',\n",
       "  'deveriam',\n",
       "  ... 460 more items ]"
      ]
     },
     "execution_count": 1,
     "metadata": {},
     "output_type": "execute_result"
    }
   ],
   "source": [
    "sw = require('stopword')\n",
    "sw.br\n"
   ]
  },
  {
   "cell_type": "markdown",
   "metadata": {},
   "source": [
    "# Trainning "
   ]
  },
  {
   "cell_type": "code",
   "execution_count": 14,
   "metadata": {},
   "outputs": [
    {
     "name": "stdout",
     "output_type": "stream",
     "text": [
      "BayesClassifier {\n",
      "  classifier:\n",
      "   BayesClassifier {\n",
      "     classFeatures: { amor: [Object], 'ódio': [Object] },\n",
      "     classTotals: { amor: 3, 'ódio': 3 },\n",
      "     totalExamples: 5,\n",
      "     smoothing: 1 },\n",
      "  docs:\n",
      "   [ { label: 'amor', text: [Array] },\n",
      "     { label: 'ódio', text: [Array] },\n",
      "     { label: 'amor', text: [Array] },\n",
      "     { label: 'ódio', text: [Array] } ],\n",
      "  features:\n",
      "   { eu: 1,\n",
      "     amo: 1,\n",
      "     isso: 2,\n",
      "     odeio: 1,\n",
      "     adoro: 1,\n",
      "     tudo: 1,\n",
      "     gosto: 1,\n",
      "     disso: 1 },\n",
      "  stemmer:\n",
      "   { stem: [Function],\n",
      "     addStopWord: [Function],\n",
      "     addStopWords: [Function],\n",
      "     removeStopWord: [Function],\n",
      "     removeStopWords: [Function],\n",
      "     tokenizeAndStem: [Function],\n",
      "     attach: [Function],\n",
      "     categorizeGroups: [Function: categorizeGroups],\n",
      "     measure: [Function: measure],\n",
      "     step1a: [Function: step1a],\n",
      "     step1b: [Function: step1b],\n",
      "     step1c: [Function: step1c],\n",
      "     step2: [Function: step2],\n",
      "     step3: [Function: step3],\n",
      "     step4: [Function: step4],\n",
      "     step5a: [Function: step5a],\n",
      "     step5b: [Function: step5b] },\n",
      "  lastAdded: 4,\n",
      "  events:\n",
      "   EventEmitter {\n",
      "     _events: [Object: null prototype] {},\n",
      "     _eventsCount: 0,\n",
      "     _maxListeners: undefined } }\n"
     ]
    }
   ],
   "source": [
    "var classifier = new natural.BayesClassifier();\n",
    "\n",
    "classifier.addDocument('eu amo isso', 'amor');\n",
    "classifier.addDocument('odeio isso', 'ódio');\n",
    "classifier.addDocument('adoro tudo', 'amor');\n",
    "classifier.addDocument('não gosto disso', 'ódio');\n",
    "\n",
    "classifier.train();\n",
    "console.log(classifier)\n"
   ]
  },
  {
   "cell_type": "code",
   "execution_count": 11,
   "metadata": {},
   "outputs": [
    {
     "name": "stdout",
     "output_type": "stream",
     "text": [
      "amor\n",
      "[ { label: 'amor', value: 0.26666666666666666 },\n",
      "  { label: 'ódio', value: 0.13333333333333333 } ]\n"
     ]
    }
   ],
   "source": [
    "console.log(classifier.classify('amo isso'));\n",
    "console.log(classifier.getClassifications('amo isso'));"
   ]
  },
  {
   "cell_type": "code",
   "execution_count": null,
   "metadata": {},
   "outputs": [],
   "source": []
  },
  {
   "cell_type": "code",
   "execution_count": null,
   "metadata": {},
   "outputs": [],
   "source": []
  }
 ],
 "metadata": {
  "kernelspec": {
   "display_name": "Javascript (Node.js)",
   "language": "javascript",
   "name": "javascript"
  },
  "language_info": {
   "file_extension": ".js",
   "mimetype": "application/javascript",
   "name": "javascript",
   "version": "10.16.0"
  }
 },
 "nbformat": 4,
 "nbformat_minor": 2
}
